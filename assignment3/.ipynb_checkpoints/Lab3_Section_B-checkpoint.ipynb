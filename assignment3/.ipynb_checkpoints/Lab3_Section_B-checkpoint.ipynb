{
 "cells": [
  {
   "cell_type": "code",
   "execution_count": 1,
   "metadata": {},
   "outputs": [],
   "source": [
    "# libraries to be imported\n",
    "from pyspark.sql import SparkSession\n",
    "from pyspark.sql.functions import col"
   ]
  },
  {
   "cell_type": "code",
   "execution_count": 2,
   "metadata": {},
   "outputs": [],
   "source": [
    "# New API\n",
    "spark_session = SparkSession\\\n",
    "        .builder\\\n",
    "        .master(\"spark://192.168.2.87:7077\")\\\n",
    "        .appName(\"Uvais_Section_B_Session\")\\\n",
    "        .config(\"spark.dynamicAllocation.enabled\", True)\\\n",
    "        .config(\"spark.shuffle.service.enabled\", True)\\\n",
    "        .config(\"spark.dynamicAllocation.executorIdleTimeout\",\"30s\")\\\n",
    "        .config(\"spark.executor.cores\",4)\\\n",
    "        .getOrCreate()\n",
    "        "
   ]
  },
  {
   "cell_type": "code",
   "execution_count": 3,
   "metadata": {},
   "outputs": [
    {
     "name": "stdout",
     "output_type": "stream",
     "text": [
      "+-------------+--------------------+----------+--------+-----------+--------------+-----------------+----+----+----------+-----+------------------+-----+------+--------------+---------------------+-----------+---------+---------+------------------+-----------------+----------------------+\n",
      "|Ticket number|          Issue Date|Issue time|Meter Id|Marked Time|RP State Plate|Plate Expiry Date| VIN|Make|Body Style|Color|          Location|Route|Agency|Violation code|Violation Description|Fine amount| Latitude|Longitude|Agency Description|Color Description|Body Style Description|\n",
      "+-------------+--------------------+----------+--------+-----------+--------------+-----------------+----+----+----------+-----+------------------+-----+------+--------------+---------------------+-----------+---------+---------+------------------+-----------------+----------------------+\n",
      "|   1103341116|2015-12-21T00:00:...|      1251|    null|       null|            CA|           200304|null|HOND|        PA|   GY|   13147 WELBY WAY|01521|     1|        4000A1|   NO EVIDENCE OF REG|         50|    99999|    99999|              null|             null|                  null|\n",
      "|   1103700150|2015-12-21T00:00:...|      1435|    null|       null|            CA|           201512|null| GMC|        VN|   WH|     525 S MAIN ST| 1C51|     1|        4000A1|   NO EVIDENCE OF REG|         50|    99999|    99999|              null|             null|                  null|\n",
      "|   1104803000|2015-12-21T00:00:...|      2055|    null|       null|            CA|           201503|null|NISS|        PA|   BK|     200 WORLD WAY|  2R2|     2|          8939|           WHITE CURB|         58|6439997.9|1802686.4|              null|             null|                  null|\n",
      "|   1104820732|2015-12-26T00:00:...|      1515|    null|       null|            CA|             null|null|ACUR|        PA|   WH|     100 WORLD WAY| 2F11|     2|           000|               17104h|       null|6440041.1|1802686.2|              null|             null|                  null|\n",
      "|   1105461453|2015-09-15T00:00:...|       115|    null|       null|            CA|           200316|null|CHEV|        PA|   BK|GEORGIA ST/OLYMPIC|1FB70|     1|         8069A| NO STOPPING/STANDING|         93|    99999|    99999|              null|             null|                  null|\n",
      "+-------------+--------------------+----------+--------+-----------+--------------+-----------------+----+----+----------+-----+------------------+-----+------+--------------+---------------------+-----------+---------+---------+------------------+-----------------+----------------------+\n",
      "only showing top 5 rows\n",
      "\n"
     ]
    }
   ],
   "source": [
    "# Question B.1\n",
    "# Load CSV and check\n",
    "df = spark_session.read\\\n",
    "    .option(\"header\", \"true\")\\\n",
    "    .csv('hdfs://192.168.2.87:9000/parking-citations.csv')\n",
    "# display the loaded csv\n",
    "df.show(5)"
   ]
  },
  {
   "cell_type": "code",
   "execution_count": 4,
   "metadata": {},
   "outputs": [
    {
     "name": "stdout",
     "output_type": "stream",
     "text": [
      "Number of Partions for RDD: 11\n"
     ]
    }
   ],
   "source": [
    "# Question B.2\n",
    "# Count number of partitions\n",
    "print(\"Number of Partions for RDD: \"+str(df.rdd.getNumPartitions()))"
   ]
  },
  {
   "cell_type": "code",
   "execution_count": 5,
   "metadata": {
    "scrolled": true
   },
   "outputs": [
    {
     "name": "stdout",
     "output_type": "stream",
     "text": [
      "root\n",
      " |-- Ticket number: string (nullable = true)\n",
      " |-- Issue Date: string (nullable = true)\n",
      " |-- Issue time: string (nullable = true)\n",
      " |-- Meter Id: string (nullable = true)\n",
      " |-- Marked Time: string (nullable = true)\n",
      " |-- RP State Plate: string (nullable = true)\n",
      " |-- Plate Expiry Date: string (nullable = true)\n",
      " |-- VIN: string (nullable = true)\n",
      " |-- Make: string (nullable = true)\n",
      " |-- Body Style: string (nullable = true)\n",
      " |-- Color: string (nullable = true)\n",
      " |-- Location: string (nullable = true)\n",
      " |-- Route: string (nullable = true)\n",
      " |-- Agency: string (nullable = true)\n",
      " |-- Violation code: string (nullable = true)\n",
      " |-- Violation Description: string (nullable = true)\n",
      " |-- Fine amount: string (nullable = true)\n",
      " |-- Latitude: string (nullable = true)\n",
      " |-- Longitude: string (nullable = true)\n",
      " |-- Agency Description: string (nullable = true)\n",
      " |-- Color Description: string (nullable = true)\n",
      " |-- Body Style Description: string (nullable = true)\n",
      "\n"
     ]
    }
   ],
   "source": [
    "# Question B.3\n",
    "# Displaying the data frame schema\n",
    "df.printSchema()"
   ]
  },
  {
   "cell_type": "code",
   "execution_count": 6,
   "metadata": {},
   "outputs": [
    {
     "name": "stdout",
     "output_type": "stream",
     "text": [
      "Number of Rows: 9881842\n"
     ]
    }
   ],
   "source": [
    "# Question B.4\n",
    "# Counting the number of rows\n",
    "print(\"Number of Rows: \"+str(df.count()))"
   ]
  },
  {
   "cell_type": "code",
   "execution_count": 7,
   "metadata": {
    "scrolled": true
   },
   "outputs": [
    {
     "name": "stdout",
     "output_type": "stream",
     "text": [
      "Columns in dataframe before drop method: 22 Columns\n",
      "['Ticket number', 'Issue Date', 'Issue time', 'Meter Id', 'Marked Time', 'RP State Plate', 'Plate Expiry Date', 'VIN', 'Make', 'Body Style', 'Color', 'Location', 'Route', 'Agency', 'Violation code', 'Violation Description', 'Fine amount', 'Latitude', 'Longitude', 'Agency Description', 'Color Description', 'Body Style Description']\n",
      "Columns in dataframe after drop method: 19 Columns\n",
      "['Ticket number', 'Issue Date', 'Issue time', 'Meter Id', 'Marked Time', 'RP State Plate', 'Plate Expiry Date', 'VIN', 'Make', 'Body Style', 'Color', 'Location', 'Violation code', 'Violation Description', 'Fine amount', 'Latitude', 'Longitude', 'Color Description', 'Body Style Description']\n"
     ]
    }
   ],
   "source": [
    "# Question B.5\n",
    "# Droping columns\n",
    "# Before\n",
    "print(\"Columns in dataframe before drop method: \"+str(len(df.columns))+\" Columns\\n\"+str(df.columns))\n",
    "# After\n",
    "columns_to_drop = ['Agency Description','Agency','Route']\n",
    "col_edit_df = df.drop(*columns_to_drop)\n",
    "print(\"Columns in dataframe after drop method: \"+str(len(col_edit_df.columns))+\" Columns\\n\"+str(col_edit_df.columns))"
   ]
  },
  {
   "cell_type": "code",
   "execution_count": 12,
   "metadata": {
    "scrolled": true
   },
   "outputs": [
    {
     "name": "stdout",
     "output_type": "stream",
     "text": [
      "+-------+----------------+\n",
      "|summary|     Fine amount|\n",
      "+-------+----------------+\n",
      "|   mean|70.1855354220642|\n",
      "+-------+----------------+\n",
      "\n"
     ]
    }
   ],
   "source": [
    "# Question B.6\n",
    "# Converting Fine amount from type string to float \n",
    "edited_df = col_edit_df.withColumn('Fine amount',col('Fine amount').cast('float'))\n",
    "# generating summary of column\n",
    "edited_df.select('Fine amount').summary()\\\n",
    "        .filter(col('summary')=='mean').show()"
   ]
  },
  {
   "cell_type": "code",
   "execution_count": 9,
   "metadata": {
    "scrolled": true
   },
   "outputs": [
    {
     "name": "stdout",
     "output_type": "stream",
     "text": [
      "+----+---------+\n",
      "|Make|Frequency|\n",
      "+----+---------+\n",
      "|TOYT|  1633266|\n",
      "|HOND|  1113834|\n",
      "|FORD|   860828|\n",
      "|NISS|   709250|\n",
      "|CHEV|   674422|\n",
      "| BMW|   450909|\n",
      "|MERZ|   402126|\n",
      "|VOLK|   335618|\n",
      "|HYUN|   304934|\n",
      "|DODG|   290979|\n",
      "+----+---------+\n",
      "only showing top 10 rows\n",
      "\n"
     ]
    }
   ],
   "source": [
    "# Question B.7\n",
    "# generating top 10 frequent vehicle make\n",
    "edited_df.groupBy('Make').count().sort(col('count').desc())\\\n",
    "        .selectExpr('Make','count as Frequency').show(10)"
   ]
  },
  {
   "cell_type": "code",
   "execution_count": 10,
   "metadata": {},
   "outputs": [
    {
     "name": "stdout",
     "output_type": "stream",
     "text": [
      "+-----+----------+\n",
      "|Color|color long|\n",
      "+-----+----------+\n",
      "|   MP|        MP|\n",
      "|   BK|     Black|\n",
      "|   MO|        MO|\n",
      "|   GY|      Gray|\n",
      "|   GN|     Green|\n",
      "|   TU|        TU|\n",
      "|   PL|        PL|\n",
      "|   SN|        SN|\n",
      "|   SU|        SU|\n",
      "|   VO|        VO|\n",
      "|   AP|        AP|\n",
      "|   GR|        GR|\n",
      "|   RE|       Red|\n",
      "|   MD|        MD|\n",
      "|   CA|        CA|\n",
      "|   MN|        MN|\n",
      "|   KA|        KA|\n",
      "|   TW|        TW|\n",
      "|   BR|     Brown|\n",
      "|   BC|        BC|\n",
      "+-----+----------+\n",
      "only showing top 20 rows\n",
      "\n"
     ]
    }
   ],
   "source": [
    "# Question B.8\n",
    "# creating a dictionary\n",
    "COLORS = {\n",
    "'AL':'Aluminum', 'AM':'Amber', 'BG':'Beige', 'BK':'Black',\n",
    "'BL':'Blue', 'BN':'Brown', 'BR':'Brown', 'BZ':'Bronze',\n",
    "'CH':'Charcoal', 'DK':'Dark', 'GD':'Gold', 'GO':'Gold',\n",
    "'GN':'Green', 'GY':'Gray', 'GT':'Granite', 'IV':'Ivory',\n",
    "'LT':'Light', 'OL':'Olive', 'OR':'Orange', 'MR':'Maroon',\n",
    "'PK':'Pink', 'RD':'Red', 'RE':'Red', 'SI':'Silver', 'SL':'Silver',\n",
    "'SM':'Smoke', 'TN':'Tan', 'VT':'Violet', 'WT':'White',\n",
    "'WH':'White', 'YL':'Yellow', 'YE':'Yellow', 'UN':'Unknown'\n",
    "}\n",
    "\n",
    "# Duplicating column Color as a new column color long  \n",
    "colorlong_df = edited_df.withColumn('color long',col('Color').cast('string'))\n",
    "# Replacing color short terms with abbrevations\n",
    "colorlong_df = colorlong_df.replace(to_replace=COLORS, subset=['color long'])\n",
    "# Displaying a sample of 20\n",
    "colorlong_df.select('Color','color long').distinct().show()"
   ]
  },
  {
   "cell_type": "code",
   "execution_count": 11,
   "metadata": {
    "scrolled": false
   },
   "outputs": [
    {
     "name": "stdout",
     "output_type": "stream",
     "text": [
      "+----+-----+----------+------+\n",
      "|Make|Color|color long| count|\n",
      "+----+-----+----------+------+\n",
      "|HOND|   GY|      Gray|266135|\n",
      "+----+-----+----------+------+\n",
      "only showing top 1 row\n",
      "\n"
     ]
    }
   ],
   "source": [
    "# Question B.9\n",
    "# generating top color for vehicle make 'HOND'\n",
    "colorlong_summary = colorlong_df.groupBy('Make','Color','color long').count().sort(col('count').desc())\n",
    "colorlong_summary.filter(col('Make')=='HOND').show(1)"
   ]
  },
  {
   "cell_type": "code",
   "execution_count": 13,
   "metadata": {},
   "outputs": [],
   "source": [
    "# release the cores for another application!\n",
    "spark_session.stop()"
   ]
  },
  {
   "cell_type": "code",
   "execution_count": null,
   "metadata": {},
   "outputs": [],
   "source": []
  }
 ],
 "metadata": {
  "kernelspec": {
   "display_name": "Python 3",
   "language": "python",
   "name": "python3"
  },
  "language_info": {
   "codemirror_mode": {
    "name": "ipython",
    "version": 3
   },
   "file_extension": ".py",
   "mimetype": "text/x-python",
   "name": "python",
   "nbconvert_exporter": "python",
   "pygments_lexer": "ipython3",
   "version": "3.7.7"
  }
 },
 "nbformat": 4,
 "nbformat_minor": 2
}
